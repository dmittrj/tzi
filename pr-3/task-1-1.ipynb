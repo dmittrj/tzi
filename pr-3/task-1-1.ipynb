{
 "cells": [
  {
   "cell_type": "code",
   "execution_count": 5,
   "metadata": {},
   "outputs": [],
   "source": [
    "import numpy as np\n",
    "import matplotlib.pyplot as plt\n",
    "\n",
    "# Исходные данные (по варианту)\n",
    "_U_0 = 10 # амплитуда несущих колебаний, мВ\n",
    "_f_0 = 10 # частота несущих колебаний, МГц\n",
    "_m_1 = 10 # глубина модуляции, %\n",
    "_F_M1 = 10 # частота управляющего сигнала, КГц"
   ]
  },
  {
   "cell_type": "code",
   "execution_count": 10,
   "metadata": {},
   "outputs": [
    {
     "name": "stdout",
     "output_type": "stream",
     "text": [
      "Дано:\n",
      "U_0 = 10 мВ = 0.01 В\n",
      "f_0 = 10 МГц = 10000000 Гц\n",
      "m_1 = 10 % = 0.1\n",
      "F_M1 = 10 КГц = 10000 Гц\n"
     ]
    }
   ],
   "source": [
    "# Перевод в систему СИ\n",
    "U_0 = _U_0 / 1000\n",
    "f_0 = _f_0 * pow(10, 6)\n",
    "m_1 = _m_1 / 100\n",
    "F_M1 = _F_M1 * 1000\n",
    "print(\"Дано:\")\n",
    "print(f\"U_0 = {_U_0} мВ = {U_0} В\")\n",
    "print(f\"f_0 = {_f_0} МГц = {f_0} Гц\")\n",
    "print(f\"m_1 = {_m_1} % = {m_1}\")\n",
    "print(f\"F_M1 = {_F_M1} КГц = {F_M1} Гц\")"
   ]
  },
  {
   "cell_type": "code",
   "execution_count": 13,
   "metadata": {},
   "outputs": [
    {
     "name": "stdout",
     "output_type": "stream",
     "text": [
      "Амплитуда центральной гармоники A_0 = 0.01 В\n",
      "Амплитуда нижней гармоники A_нижн. = 0.0005 В\n",
      "Амплитуда верхней гармоники A_верх. = 0.0005 В\n"
     ]
    }
   ],
   "source": [
    "print(f\"Амплитуда центральной гармоники A_0 = {U_0} В\")\n",
    "print(f\"Амплитуда нижней гармоники A_нижн. = {U_0 * m_1 / 2} В\")\n",
    "print(f\"Амплитуда верхней гармоники A_верх. = {U_0 * m_1 / 2} В\")"
   ]
  }
 ],
 "metadata": {
  "kernelspec": {
   "display_name": "Python 3",
   "language": "python",
   "name": "python3"
  },
  "language_info": {
   "codemirror_mode": {
    "name": "ipython",
    "version": 3
   },
   "file_extension": ".py",
   "mimetype": "text/x-python",
   "name": "python",
   "nbconvert_exporter": "python",
   "pygments_lexer": "ipython3",
   "version": "3.11.7"
  }
 },
 "nbformat": 4,
 "nbformat_minor": 2
}
